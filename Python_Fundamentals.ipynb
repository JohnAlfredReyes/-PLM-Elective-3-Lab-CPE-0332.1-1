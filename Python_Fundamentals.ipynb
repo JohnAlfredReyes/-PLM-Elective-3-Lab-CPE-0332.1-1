{
  "nbformat": 4,
  "nbformat_minor": 0,
  "metadata": {
    "colab": {
      "provenance": [],
      "authorship_tag": "ABX9TyOi66d0kGyu2LninPUDqe2T",
      "include_colab_link": true
    },
    "kernelspec": {
      "name": "python3",
      "display_name": "Python 3"
    },
    "language_info": {
      "name": "python"
    }
  },
  "cells": [
    {
      "cell_type": "markdown",
      "metadata": {
        "id": "view-in-github",
        "colab_type": "text"
      },
      "source": [
        "<a href=\"https://colab.research.google.com/github/JohnAlfredReyes/-PLM-Elective-3-Lab-CPE-0332.1-1/blob/main/Python_Fundamentals.ipynb\" target=\"_parent\"><img src=\"https://colab.research.google.com/assets/colab-badge.svg\" alt=\"Open In Colab\"/></a>"
      ]
    },
    {
      "cell_type": "markdown",
      "source": [
        "Python Identation"
      ],
      "metadata": {
        "id": "lMLrjGDfjJ5C"
      }
    },
    {
      "cell_type": "code",
      "execution_count": 4,
      "metadata": {
        "colab": {
          "base_uri": "https://localhost:8080/"
        },
        "id": "u6KjzBDSi8HG",
        "outputId": "51b3268b-0565-4b06-978a-09fec515404f"
      },
      "outputs": [
        {
          "output_type": "stream",
          "name": "stdout",
          "text": [
            "Five is greater than two\n"
          ]
        }
      ],
      "source": [
        "x=3\n",
        "y=2\n",
        "if 5>2:\n",
        "  print(\"Five is greater than two\")\n"
      ]
    },
    {
      "cell_type": "markdown",
      "source": [
        "Python Comment"
      ],
      "metadata": {
        "id": "_LN7S1oNkdW5"
      }
    },
    {
      "cell_type": "code",
      "source": [
        "print(\"Hello world\") #This is a comment"
      ],
      "metadata": {
        "colab": {
          "base_uri": "https://localhost:8080/"
        },
        "id": "uryEYAc8kgzt",
        "outputId": "3a221d4f-c593-47ba-e2b7-bf792c6e2624"
      },
      "execution_count": 3,
      "outputs": [
        {
          "output_type": "stream",
          "name": "stdout",
          "text": [
            "Hello world\n"
          ]
        }
      ]
    },
    {
      "cell_type": "markdown",
      "source": [
        "Python Variable"
      ],
      "metadata": {
        "id": "S6pPj8A1kvap"
      }
    },
    {
      "cell_type": "code",
      "source": [
        "z=1\n",
        "z,s=0,-1\n",
        "z,s,t=8,9,10\n",
        "print(z)\n",
        "print(s)\n",
        "print(t)"
      ],
      "metadata": {
        "colab": {
          "base_uri": "https://localhost:8080/"
        },
        "id": "YYtFQtQgky7P",
        "outputId": "d67fdb62-c8bf-47d0-e327-70edb7374e90"
      },
      "execution_count": 9,
      "outputs": [
        {
          "output_type": "stream",
          "name": "stdout",
          "text": [
            "8\n",
            "9\n",
            "10\n"
          ]
        }
      ]
    },
    {
      "cell_type": "markdown",
      "source": [
        "Casting"
      ],
      "metadata": {
        "id": "eCpgDi-CmDVX"
      }
    },
    {
      "cell_type": "code",
      "source": [
        "b = \"Sally\" #This is a string\n",
        "b = int(4)\n",
        "b"
      ],
      "metadata": {
        "colab": {
          "base_uri": "https://localhost:8080/"
        },
        "id": "tq1x4dclmSyn",
        "outputId": "5dfc866d-d9ce-4808-a58c-0ef27fe76643"
      },
      "execution_count": 10,
      "outputs": [
        {
          "output_type": "execute_result",
          "data": {
            "text/plain": [
              "4"
            ]
          },
          "metadata": {},
          "execution_count": 10
        }
      ]
    },
    {
      "cell_type": "markdown",
      "source": [
        "Type () function\n"
      ],
      "metadata": {
        "id": "dCMfdMuzmaeI"
      }
    },
    {
      "cell_type": "code",
      "source": [
        "print(type(b))"
      ],
      "metadata": {
        "colab": {
          "base_uri": "https://localhost:8080/"
        },
        "id": "IYCV0RIzmhcT",
        "outputId": "2cf22227-100a-4550-fcd2-b8ebd163f2fe"
      },
      "execution_count": 11,
      "outputs": [
        {
          "output_type": "stream",
          "name": "stdout",
          "text": [
            "<class 'int'>\n"
          ]
        }
      ]
    },
    {
      "cell_type": "markdown",
      "source": [
        "Double Quotes or Single Quotes"
      ],
      "metadata": {
        "id": "E8X7Xba4nBRN"
      }
    },
    {
      "cell_type": "code",
      "source": [
        "w = \"Ana\"\n",
        "print(w)\n",
        "q = \"Ana\"\n",
        "print(q)"
      ],
      "metadata": {
        "colab": {
          "base_uri": "https://localhost:8080/"
        },
        "id": "EAy-rZCInD0C",
        "outputId": "3607832a-5dc1-433a-8b20-8a9dce64331c"
      },
      "execution_count": 12,
      "outputs": [
        {
          "output_type": "stream",
          "name": "stdout",
          "text": [
            "Ana\n",
            "Ana\n"
          ]
        }
      ]
    },
    {
      "cell_type": "markdown",
      "source": [
        "Case Sensitive"
      ],
      "metadata": {
        "id": "dEicbpmJnhSX"
      }
    },
    {
      "cell_type": "code",
      "source": [
        "a = 4\n",
        "A = \"Sally\"\n",
        "print(a)\n",
        "print(A)"
      ],
      "metadata": {
        "colab": {
          "base_uri": "https://localhost:8080/"
        },
        "id": "UFzFqJnwnj3Q",
        "outputId": "f7666401-db0a-4634-ebeb-850a5b263ee6"
      },
      "execution_count": 13,
      "outputs": [
        {
          "output_type": "stream",
          "name": "stdout",
          "text": [
            "4\n",
            "Sally\n"
          ]
        }
      ]
    },
    {
      "cell_type": "markdown",
      "source": [
        "Multiple Variables"
      ],
      "metadata": {
        "id": "DTUI4Yjjn69-"
      }
    },
    {
      "cell_type": "code",
      "source": [
        "h, i, j= \"one\", \"two\", \"three\"\n",
        "print(h)\n",
        "print(i)\n",
        "print(j)"
      ],
      "metadata": {
        "colab": {
          "base_uri": "https://localhost:8080/"
        },
        "id": "dtVWM14nn-no",
        "outputId": "40c5a14f-8530-4b68-9a99-6fbfa8e72b70"
      },
      "execution_count": 14,
      "outputs": [
        {
          "output_type": "stream",
          "name": "stdout",
          "text": [
            "one\n",
            "two\n",
            "three\n"
          ]
        }
      ]
    },
    {
      "cell_type": "markdown",
      "source": [
        "Multiple Variable with Single Value"
      ],
      "metadata": {
        "id": "wTP_exBWoa2K"
      }
    },
    {
      "cell_type": "code",
      "source": [
        "k = l = m = \"four\"\n",
        "print(k)\n",
        "print(l)\n",
        "print(m)"
      ],
      "metadata": {
        "colab": {
          "base_uri": "https://localhost:8080/"
        },
        "id": "ijmuc97GohGs",
        "outputId": "063d087c-f82a-438f-a147-404850e6382c"
      },
      "execution_count": 15,
      "outputs": [
        {
          "output_type": "stream",
          "name": "stdout",
          "text": [
            "four\n",
            "four\n",
            "four\n"
          ]
        }
      ]
    },
    {
      "cell_type": "markdown",
      "source": [
        "Output Variable and Concatenation"
      ],
      "metadata": {
        "id": "fRCGvas9o3rm"
      }
    },
    {
      "cell_type": "code",
      "source": [
        "n = \"enjoying.\"\n",
        "p = \"Python programming is\"\n",
        "print(p + n)"
      ],
      "metadata": {
        "colab": {
          "base_uri": "https://localhost:8080/"
        },
        "id": "4bScrnmvo7jK",
        "outputId": "593c7321-1e5c-439a-e937-2aa87a04140a"
      },
      "execution_count": 23,
      "outputs": [
        {
          "output_type": "stream",
          "name": "stdout",
          "text": [
            "Python programming isenjoying.\n"
          ]
        }
      ]
    },
    {
      "cell_type": "markdown",
      "source": [
        "Arithmetic Operations"
      ],
      "metadata": {
        "id": "KEhl9y5Sva5N"
      }
    },
    {
      "cell_type": "code",
      "source": [
        "print (x+y) #Addition\n",
        "print (x-y) #Substraction\n",
        "print (x*y) #Multiplication\n",
        "print (x/y) #Division\n",
        "print (x//y) #Floor Division\n",
        "print (x%y) #Modulus\n",
        "print (x**y) #Exponentiation\n"
      ],
      "metadata": {
        "colab": {
          "base_uri": "https://localhost:8080/"
        },
        "id": "ULGNhGO0vjdY",
        "outputId": "86fb11d1-148c-4b5c-f34d-8e8da48dd6cb"
      },
      "execution_count": 26,
      "outputs": [
        {
          "output_type": "stream",
          "name": "stdout",
          "text": [
            "10\n",
            "6\n",
            "16\n",
            "4.0\n",
            "4\n",
            "0\n",
            "64\n"
          ]
        }
      ]
    },
    {
      "cell_type": "markdown",
      "source": [
        "Assignment Operators"
      ],
      "metadata": {
        "id": "ku3vkPodwvEz"
      }
    },
    {
      "cell_type": "code",
      "source": [
        "x+=3 #same as x = x=3\n",
        "print(x)"
      ],
      "metadata": {
        "colab": {
          "base_uri": "https://localhost:8080/"
        },
        "id": "X8tCvEFEw03u",
        "outputId": "5734fec2-c549-49b0-a995-10ffc4628bf7"
      },
      "execution_count": 27,
      "outputs": [
        {
          "output_type": "stream",
          "name": "stdout",
          "text": [
            "11\n"
          ]
        }
      ]
    },
    {
      "cell_type": "markdown",
      "source": [
        "Comparison Operators"
      ],
      "metadata": {
        "id": "-1pjSUrMxEyy"
      }
    },
    {
      "cell_type": "code",
      "source": [
        "print (x==y) #x=3, y=2\n",
        "print (x!=y)\n",
        "print(x>y)\n",
        "print(x<y)"
      ],
      "metadata": {
        "colab": {
          "base_uri": "https://localhost:8080/"
        },
        "id": "aEiWNqC1xJYk",
        "outputId": "3dc3a06a-a2c5-4e3d-b8ed-e0e2a0e57249"
      },
      "execution_count": 30,
      "outputs": [
        {
          "output_type": "stream",
          "name": "stdout",
          "text": [
            "False\n",
            "True\n",
            "True\n",
            "False\n"
          ]
        }
      ]
    },
    {
      "cell_type": "markdown",
      "source": [
        "Logical Operators"
      ],
      "metadata": {
        "id": "V0zLQItTx1QP"
      }
    },
    {
      "cell_type": "code",
      "source": [
        "print (x==y and x!=y) #False and True\n",
        "print (x==y or x!=y) #False or True\n",
        "print (not(x==y or x!=y)) #negate (False or True)"
      ],
      "metadata": {
        "colab": {
          "base_uri": "https://localhost:8080/"
        },
        "id": "oVLi1QVox3yo",
        "outputId": "033b7306-3874-4844-e79f-faecd131b5d2"
      },
      "execution_count": 36,
      "outputs": [
        {
          "output_type": "stream",
          "name": "stdout",
          "text": [
            "False\n",
            "True\n",
            "False\n"
          ]
        }
      ]
    },
    {
      "cell_type": "markdown",
      "source": [
        "Identity Operators"
      ],
      "metadata": {
        "id": "GquUW0eny72g"
      }
    },
    {
      "cell_type": "code",
      "source": [
        "x is y #x=3, y=2\n",
        "x is not y"
      ],
      "metadata": {
        "colab": {
          "base_uri": "https://localhost:8080/"
        },
        "id": "sKT83epvy-fO",
        "outputId": "79214fc3-e1a1-43a8-9788-1e1525146da9"
      },
      "execution_count": 38,
      "outputs": [
        {
          "output_type": "execute_result",
          "data": {
            "text/plain": [
              "True"
            ]
          },
          "metadata": {},
          "execution_count": 38
        }
      ]
    },
    {
      "cell_type": "markdown",
      "source": [
        "Bitwise Operators"
      ],
      "metadata": {
        "id": "zrbEhen3zMiE"
      }
    },
    {
      "cell_type": "code",
      "source": [
        "#10 + 1 = 11  ; 1010 + 0001 = 1011\n",
        "print (10 | 1)\n",
        "\n",
        "print (x>>1)  #x=3 , 011"
      ],
      "metadata": {
        "colab": {
          "base_uri": "https://localhost:8080/"
        },
        "id": "dAKr9_BzzOej",
        "outputId": "39d3372b-9e62-406d-cfd7-aa580be5682b"
      },
      "execution_count": 47,
      "outputs": [
        {
          "output_type": "stream",
          "name": "stdout",
          "text": [
            "11\n",
            "5\n"
          ]
        }
      ]
    },
    {
      "cell_type": "markdown",
      "source": [
        "Application 1"
      ],
      "metadata": {
        "id": "oiY9W9yO098f"
      }
    },
    {
      "cell_type": "code",
      "source": [
        "#Create a Python program that displays your Fullname, Age, and Course and Section\n",
        "def display_information():\n",
        "    # Replace these values with your actual information\n",
        "    full_name = \"John Alfred Reyes\"\n",
        "    age = 24\n",
        "    course_and_section = \"BS Computer Engineering -  CPE 0332.1-1\"\n",
        "\n",
        "    # Print the information\n",
        "    print(\"Full Name: \", full_name)\n",
        "    print(\"Age: \", age)\n",
        "    print(\"Course and Section: \", course_and_section)\n",
        "\n",
        "# Call the function to display the information\n",
        "display_information()"
      ],
      "metadata": {
        "colab": {
          "base_uri": "https://localhost:8080/"
        },
        "id": "YmgaQbGT1Bw9",
        "outputId": "118f90a0-aefc-47bd-8128-d580e2fa0880"
      },
      "execution_count": 52,
      "outputs": [
        {
          "output_type": "stream",
          "name": "stdout",
          "text": [
            "Full Name:  John Alfred Reyes\n",
            "Age:  24\n",
            "Course and Section:  BS Computer Engineering -  CPE 0332.1-1\n"
          ]
        }
      ]
    }
  ]
}