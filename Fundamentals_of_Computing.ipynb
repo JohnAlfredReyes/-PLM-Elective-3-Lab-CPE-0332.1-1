{
  "nbformat": 4,
  "nbformat_minor": 0,
  "metadata": {
    "colab": {
      "provenance": [],
      "authorship_tag": "ABX9TyMAoCqQYOZQ4iSjsDaMpOFl",
      "include_colab_link": true
    },
    "kernelspec": {
      "name": "python3",
      "display_name": "Python 3"
    },
    "language_info": {
      "name": "python"
    }
  },
  "cells": [
    {
      "cell_type": "markdown",
      "metadata": {
        "id": "view-in-github",
        "colab_type": "text"
      },
      "source": [
        "<a href=\"https://colab.research.google.com/github/JohnAlfredReyes/-PLM-Elective-3-Lab-CPE-0332.1-1/blob/main/Fundamentals_of_Computing.ipynb\" target=\"_parent\"><img src=\"https://colab.research.google.com/assets/colab-badge.svg\" alt=\"Open In Colab\"/></a>"
      ]
    },
    {
      "cell_type": "markdown",
      "source": [
        "**Arithmetic**"
      ],
      "metadata": {
        "id": "WJNxLtud_5K3"
      }
    },
    {
      "cell_type": "code",
      "execution_count": null,
      "metadata": {
        "colab": {
          "base_uri": "https://localhost:8080/"
        },
        "id": "mM6-gUGk-jNG",
        "outputId": "a1fdf24a-1092-4cc5-d53d-81f48daa9be4"
      },
      "outputs": [
        {
          "output_type": "stream",
          "name": "stdout",
          "text": [
            "8\n",
            "2\n",
            "15\n",
            "125\n",
            "1.6666666666666667\n",
            "2\n",
            "1\n"
          ]
        }
      ],
      "source": [
        "a = 5+3   #Addition\n",
        "print (a)\n",
        "\n",
        "a = 5-3   #Substraction\n",
        "print (a)\n",
        "\n",
        "a = 5*3   #Multiplication\n",
        "print (a)\n",
        "\n",
        "a = 5**3  #Exponent\n",
        "print (a)\n",
        "\n",
        "a = 5/3   #Division\n",
        "print (a)\n",
        "\n",
        "a = 5%3   #Modulus\n",
        "print (a)\n",
        "\n",
        "a = 5//3  #Floor Division\n",
        "print (a)"
      ]
    },
    {
      "cell_type": "code",
      "source": [
        "#Increment\n",
        "a =5\n",
        "a +=1\n",
        "print(a)\n",
        "\n",
        "#Decrement\n",
        "a =5\n",
        "a -=1\n",
        "print (a)\n",
        "\n",
        "#String Concatenation\n",
        "a = 'Hello' + 'world!'\n",
        "print(a)\n",
        "\n",
        "#Complex Expressions\n",
        "a= 3+5-6*2/4\n",
        "print(a)"
      ],
      "metadata": {
        "colab": {
          "base_uri": "https://localhost:8080/"
        },
        "id": "5xGKAK2UERCA",
        "outputId": "3738b112-2480-4f97-dd87-0ceb3599f185"
      },
      "execution_count": null,
      "outputs": [
        {
          "output_type": "stream",
          "name": "stdout",
          "text": [
            "6\n",
            "4\n",
            "Helloworld!\n",
            "5.0\n"
          ]
        }
      ]
    },
    {
      "cell_type": "markdown",
      "source": [
        "**Conditional** **Statements**"
      ],
      "metadata": {
        "id": "3PF8RbD0FC-J"
      }
    },
    {
      "cell_type": "code",
      "source": [
        "# Boolean Conditions\n",
        "\n",
        "x = True\n",
        "if x:\n",
        "    print(\"var x is True\")\n",
        "else:\n",
        "    print(\"var x is False\")"
      ],
      "metadata": {
        "colab": {
          "base_uri": "https://localhost:8080/"
        },
        "id": "YCsajnhBFGzn",
        "outputId": "cad946dc-ea04-44ee-b235-833ff01f66f4"
      },
      "execution_count": null,
      "outputs": [
        {
          "output_type": "stream",
          "name": "stdout",
          "text": [
            "var x is True\n"
          ]
        }
      ]
    },
    {
      "cell_type": "code",
      "source": [
        "# String Conditions\n",
        "\n",
        "x = \"Hello World!\"\n",
        "if x == 'Hello World!':\n",
        "  print(\"x is 'Hello World!'\")\n",
        "else:\n",
        "  print(\"x is not 'Hello World!'\")"
      ],
      "metadata": {
        "colab": {
          "base_uri": "https://localhost:8080/"
        },
        "id": "K_Ncu2iRF0w5",
        "outputId": "8b50ee2b-ca90-45b2-90a8-904fbfffc129"
      },
      "execution_count": null,
      "outputs": [
        {
          "output_type": "stream",
          "name": "stdout",
          "text": [
            "x is 'Hello World!'\n"
          ]
        }
      ]
    },
    {
      "cell_type": "code",
      "source": [
        "#Numerical Conditions\n",
        "\n",
        "x = 10\n",
        "\n",
        "if x == 10:\n",
        "  print(\"x is a string\")\n",
        "elif x == 10:\n",
        "  print(\"x is an integer\")\n",
        "else:\n",
        "  print(\"x is none of the above\")"
      ],
      "metadata": {
        "colab": {
          "base_uri": "https://localhost:8080/"
        },
        "id": "9eWL5AVnGNuy",
        "outputId": "f0858dc8-f624-4156-ca64-78d6410809bc"
      },
      "execution_count": null,
      "outputs": [
        {
          "output_type": "stream",
          "name": "stdout",
          "text": [
            "x is a string\n"
          ]
        }
      ]
    },
    {
      "cell_type": "markdown",
      "source": [
        "**Functions**"
      ],
      "metadata": {
        "id": "QuBJ-HlcGc_R"
      }
    },
    {
      "cell_type": "code",
      "source": [
        "def remainder(n, m):\n",
        "    while True:\n",
        "        if n - m < 0:  # Missing colon after the if statement\n",
        "            return n\n",
        "        else:\n",
        "            n = n - m\n",
        "\n",
        "print(remainder(10, 4))"
      ],
      "metadata": {
        "colab": {
          "base_uri": "https://localhost:8080/"
        },
        "id": "wjTdiLzuGe54",
        "outputId": "894fce17-2a04-4091-e8de-708dfe6d0aca"
      },
      "execution_count": null,
      "outputs": [
        {
          "output_type": "stream",
          "name": "stdout",
          "text": [
            "2\n"
          ]
        }
      ]
    },
    {
      "cell_type": "markdown",
      "source": [
        "**Lists**"
      ],
      "metadata": {
        "id": "uKOejqV8C0-_"
      }
    },
    {
      "cell_type": "code",
      "source": [
        "pi = 3.14159\n",
        "varList = [1, 2, 'A', 'B', ' Hello!', pi]\n",
        "print (varList[0])"
      ],
      "metadata": {
        "colab": {
          "base_uri": "https://localhost:8080/"
        },
        "id": "2OWMnp4gDKNQ",
        "outputId": "67787e02-adcb-4dcc-d9d4-36042c53ae64"
      },
      "execution_count": null,
      "outputs": [
        {
          "output_type": "stream",
          "name": "stdout",
          "text": [
            "1\n"
          ]
        }
      ]
    },
    {
      "cell_type": "code",
      "source": [
        "print(varList[4])"
      ],
      "metadata": {
        "colab": {
          "base_uri": "https://localhost:8080/"
        },
        "id": "Z91YC0T3Dkuh",
        "outputId": "4d44cb64-b599-4e43-b6e7-0084e19db41a"
      },
      "execution_count": null,
      "outputs": [
        {
          "output_type": "stream",
          "name": "stdout",
          "text": [
            " Hello!\n"
          ]
        }
      ]
    },
    {
      "cell_type": "code",
      "source": [
        "varList.append(\"World\")\n",
        "print(varList[6])"
      ],
      "metadata": {
        "colab": {
          "base_uri": "https://localhost:8080/"
        },
        "id": "rACkRVO-DpRo",
        "outputId": "55db623b-990b-40d8-9714-ebd72dda39f3"
      },
      "execution_count": null,
      "outputs": [
        {
          "output_type": "stream",
          "name": "stdout",
          "text": [
            "World\n"
          ]
        }
      ]
    },
    {
      "cell_type": "code",
      "source": [
        "len(varList)"
      ],
      "metadata": {
        "colab": {
          "base_uri": "https://localhost:8080/"
        },
        "id": "t1EUncG6DzJH",
        "outputId": "4b125554-e475-420c-e8e4-9c0f188b7094"
      },
      "execution_count": null,
      "outputs": [
        {
          "output_type": "execute_result",
          "data": {
            "text/plain": [
              "7"
            ]
          },
          "metadata": {},
          "execution_count": 27
        }
      ]
    },
    {
      "cell_type": "code",
      "source": [
        "print(varList[5])"
      ],
      "metadata": {
        "colab": {
          "base_uri": "https://localhost:8080/"
        },
        "id": "HuF4ztI_D2PX",
        "outputId": "9a084c3e-cf10-42b0-ee1d-b3814af9bcab"
      },
      "execution_count": null,
      "outputs": [
        {
          "output_type": "stream",
          "name": "stdout",
          "text": [
            "3.14159\n"
          ]
        }
      ]
    },
    {
      "cell_type": "code",
      "source": [
        "varList.remove(pi)\n",
        "print(varList[5])"
      ],
      "metadata": {
        "colab": {
          "base_uri": "https://localhost:8080/"
        },
        "id": "rBiAZVKID5kf",
        "outputId": "09850e1e-4026-4059-b352-9826adf45039"
      },
      "execution_count": null,
      "outputs": [
        {
          "output_type": "stream",
          "name": "stdout",
          "text": [
            "World\n"
          ]
        }
      ]
    },
    {
      "cell_type": "markdown",
      "source": [
        "**Dictionaries**"
      ],
      "metadata": {
        "id": "XpeN981TCsF4"
      }
    },
    {
      "cell_type": "code",
      "source": [
        "var=\"Hello World!\"\n",
        "varDict = {'first' : 123, 2 : \"abc\",\n",
        "           \"3\" : var, 4 : [\"lista\", \"listb\"]}\n",
        "print(varDict['first'])"
      ],
      "metadata": {
        "colab": {
          "base_uri": "https://localhost:8080/"
        },
        "id": "pWS2hVemHB5i",
        "outputId": "0f280941-47eb-4cb5-d50b-41f8d0463233"
      },
      "execution_count": null,
      "outputs": [
        {
          "output_type": "stream",
          "name": "stdout",
          "text": [
            "123\n"
          ]
        }
      ]
    },
    {
      "cell_type": "code",
      "source": [
        "print (varDict[2])"
      ],
      "metadata": {
        "colab": {
          "base_uri": "https://localhost:8080/"
        },
        "id": "ZvffI94yHVbB",
        "outputId": "0f4dbbd8-cd71-4d92-97b1-8f78bbd6c120"
      },
      "execution_count": null,
      "outputs": [
        {
          "output_type": "stream",
          "name": "stdout",
          "text": [
            "abc\n"
          ]
        }
      ]
    },
    {
      "cell_type": "code",
      "source": [
        "print (varDict['3'])"
      ],
      "metadata": {
        "colab": {
          "base_uri": "https://localhost:8080/"
        },
        "id": "g6aLeeqtHW4X",
        "outputId": "ada42292-96e5-4e7e-eb2e-7089ca79b3ae"
      },
      "execution_count": null,
      "outputs": [
        {
          "output_type": "stream",
          "name": "stdout",
          "text": [
            "Hello World!\n"
          ]
        }
      ]
    },
    {
      "cell_type": "code",
      "source": [
        "print (varDict[4])"
      ],
      "metadata": {
        "colab": {
          "base_uri": "https://localhost:8080/"
        },
        "id": "CZT-3m-AHZjP",
        "outputId": "3acc871a-1e04-4855-cd1f-23aa3a1236c5"
      },
      "execution_count": null,
      "outputs": [
        {
          "output_type": "stream",
          "name": "stdout",
          "text": [
            "['lista', 'listb']\n"
          ]
        }
      ]
    },
    {
      "cell_type": "code",
      "source": [
        "print (varDict[4][1])"
      ],
      "metadata": {
        "colab": {
          "base_uri": "https://localhost:8080/"
        },
        "id": "TC5VcpKoHb6P",
        "outputId": "cb82f02e-50ef-4348-fca7-9102608c22b2"
      },
      "execution_count": null,
      "outputs": [
        {
          "output_type": "stream",
          "name": "stdout",
          "text": [
            "listb\n"
          ]
        }
      ]
    },
    {
      "cell_type": "code",
      "source": [
        "len(varDict)"
      ],
      "metadata": {
        "colab": {
          "base_uri": "https://localhost:8080/"
        },
        "id": "GfhxZCVgHgXX",
        "outputId": "5e6bf983-0417-447d-c6bb-8a868a7e977e"
      },
      "execution_count": null,
      "outputs": [
        {
          "output_type": "execute_result",
          "data": {
            "text/plain": [
              "4"
            ]
          },
          "metadata": {},
          "execution_count": 35
        }
      ]
    },
    {
      "cell_type": "code",
      "source": [
        "studentDict = {\n",
        "    'student' : 'name',\n",
        "    'bday' : 40203,\n",
        "    'age' : 21,\n",
        "}\n",
        "print(studentDict['age'])"
      ],
      "metadata": {
        "colab": {
          "base_uri": "https://localhost:8080/"
        },
        "id": "mhDvvKzVHuaI",
        "outputId": "5931e448-03df-49ca-8f4e-3ad3784516ad"
      },
      "execution_count": null,
      "outputs": [
        {
          "output_type": "stream",
          "name": "stdout",
          "text": [
            "21\n"
          ]
        }
      ]
    },
    {
      "cell_type": "markdown",
      "source": [
        "**List** **Generator** **and** **Comprehension**"
      ],
      "metadata": {
        "id": "xr381YRjImko"
      }
    },
    {
      "cell_type": "code",
      "source": [
        "def gen_num_up_to(n):\n",
        "    num = 0\n",
        "    while num < n:\n",
        "        yield num\n",
        "        num += 1\n",
        "\n",
        "gen_num_up_to(5)"
      ],
      "metadata": {
        "colab": {
          "base_uri": "https://localhost:8080/"
        },
        "id": "GhmP-K72IrnI",
        "outputId": "a30c35c6-9357-4d92-f333-b63a8bdda122"
      },
      "execution_count": null,
      "outputs": [
        {
          "output_type": "execute_result",
          "data": {
            "text/plain": [
              "<generator object gen_num_up_to at 0x7a7f5a15db60>"
            ]
          },
          "metadata": {},
          "execution_count": 54
        }
      ]
    },
    {
      "cell_type": "code",
      "source": [
        "varList = gen_num_up_to(5)\n",
        "print([var for var in varList])"
      ],
      "metadata": {
        "colab": {
          "base_uri": "https://localhost:8080/"
        },
        "id": "LBii87EKJtJ5",
        "outputId": "895df585-15bf-4c4a-e749-9ed418032609"
      },
      "execution_count": null,
      "outputs": [
        {
          "output_type": "stream",
          "name": "stdout",
          "text": [
            "[0, 1, 2, 3, 4]\n"
          ]
        }
      ]
    },
    {
      "cell_type": "code",
      "source": [
        "def gen_num_up_to(n):\n",
        "  num = 0\n",
        "  while num < n:\n",
        "    yield num\n",
        "    num += 2\n",
        "\n",
        "varList = gen_num_up_to(5)\n",
        "print([var for var in varList])"
      ],
      "metadata": {
        "colab": {
          "base_uri": "https://localhost:8080/"
        },
        "id": "GS2IOP6rJz44",
        "outputId": "718d9ad0-0155-42f4-d90c-5028332df70c"
      },
      "execution_count": null,
      "outputs": [
        {
          "output_type": "stream",
          "name": "stdout",
          "text": [
            "[0, 2, 4]\n"
          ]
        }
      ]
    },
    {
      "cell_type": "code",
      "source": [
        "varList = range(0, 5, 2)\n",
        "print([var for var in varList])"
      ],
      "metadata": {
        "colab": {
          "base_uri": "https://localhost:8080/"
        },
        "id": "zVb495-FJ5oI",
        "outputId": "54707e3f-be71-402a-cb72-a5bae3a2c867"
      },
      "execution_count": null,
      "outputs": [
        {
          "output_type": "stream",
          "name": "stdout",
          "text": [
            "[0, 2, 4]\n"
          ]
        }
      ]
    },
    {
      "cell_type": "markdown",
      "source": [
        "**Slicing**"
      ],
      "metadata": {
        "id": "dzkEiS76Hwmx"
      }
    },
    {
      "cell_type": "code",
      "source": [
        "varList = [1, 2, 3, 4, 5, 6, 7, 8, 9, 10]\n",
        "print(varList[:5])"
      ],
      "metadata": {
        "colab": {
          "base_uri": "https://localhost:8080/"
        },
        "id": "mA8xz3OAHyYx",
        "outputId": "d9fca109-064a-4990-9eed-a40719dd34f7"
      },
      "execution_count": null,
      "outputs": [
        {
          "output_type": "stream",
          "name": "stdout",
          "text": [
            "[1, 2, 3, 4, 5]\n"
          ]
        }
      ]
    },
    {
      "cell_type": "code",
      "source": [
        "print(varList[5:])"
      ],
      "metadata": {
        "colab": {
          "base_uri": "https://localhost:8080/"
        },
        "id": "F9VtdqQaIEsJ",
        "outputId": "ad1d098c-a94c-44b8-fd0c-85eb5c7de203"
      },
      "execution_count": null,
      "outputs": [
        {
          "output_type": "stream",
          "name": "stdout",
          "text": [
            "[6, 7, 8, 9, 10]\n"
          ]
        }
      ]
    },
    {
      "cell_type": "code",
      "source": [
        "print(varList[:-2])"
      ],
      "metadata": {
        "colab": {
          "base_uri": "https://localhost:8080/"
        },
        "id": "xSLuP3ZHIJSf",
        "outputId": "cb1c3fb6-5e9d-4c24-8491-3ec82e8ff2ca"
      },
      "execution_count": null,
      "outputs": [
        {
          "output_type": "stream",
          "name": "stdout",
          "text": [
            "[1, 2, 3, 4, 5, 6, 7, 8]\n"
          ]
        }
      ]
    },
    {
      "cell_type": "code",
      "source": [
        "print(varList[-2:])"
      ],
      "metadata": {
        "colab": {
          "base_uri": "https://localhost:8080/"
        },
        "id": "jf2EkNWoINgw",
        "outputId": "51340cec-cbb2-4cb2-8f6f-07f769ff46e3"
      },
      "execution_count": null,
      "outputs": [
        {
          "output_type": "stream",
          "name": "stdout",
          "text": [
            "[9, 10]\n"
          ]
        }
      ]
    },
    {
      "cell_type": "code",
      "source": [
        "print(varList[2:-2])"
      ],
      "metadata": {
        "colab": {
          "base_uri": "https://localhost:8080/"
        },
        "id": "gT09VtdkIX9o",
        "outputId": "7fde5123-44a4-4d71-ad0f-534bb1b86e22"
      },
      "execution_count": null,
      "outputs": [
        {
          "output_type": "stream",
          "name": "stdout",
          "text": [
            "[3, 4, 5, 6, 7, 8]\n"
          ]
        }
      ]
    },
    {
      "cell_type": "code",
      "source": [
        "print(varList[2:8:2])"
      ],
      "metadata": {
        "colab": {
          "base_uri": "https://localhost:8080/"
        },
        "id": "vm8TR1a6Ide3",
        "outputId": "271310e9-9493-4981-bbc7-9788283c0619"
      },
      "execution_count": null,
      "outputs": [
        {
          "output_type": "stream",
          "name": "stdout",
          "text": [
            "[3, 5, 7]\n"
          ]
        }
      ]
    }
  ]
}