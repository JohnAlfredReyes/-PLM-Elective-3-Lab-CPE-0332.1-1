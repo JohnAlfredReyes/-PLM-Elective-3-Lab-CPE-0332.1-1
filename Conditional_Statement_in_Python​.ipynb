{
  "nbformat": 4,
  "nbformat_minor": 0,
  "metadata": {
    "colab": {
      "provenance": [],
      "authorship_tag": "ABX9TyMjkJNL35Y1/IyhtdoHJ2Ch",
      "include_colab_link": true
    },
    "kernelspec": {
      "name": "python3",
      "display_name": "Python 3"
    },
    "language_info": {
      "name": "python"
    }
  },
  "cells": [
    {
      "cell_type": "markdown",
      "metadata": {
        "id": "view-in-github",
        "colab_type": "text"
      },
      "source": [
        "<a href=\"https://colab.research.google.com/github/JohnAlfredReyes/-PLM-Elective-3-Lab-CPE-0332.1-1/blob/main/Conditional_Statement_in_Python%E2%80%8B.ipynb\" target=\"_parent\"><img src=\"https://colab.research.google.com/assets/colab-badge.svg\" alt=\"Open In Colab\"/></a>"
      ]
    },
    {
      "cell_type": "markdown",
      "source": [
        "If Statement"
      ],
      "metadata": {
        "id": "Ihpwoz1gCOXS"
      }
    },
    {
      "cell_type": "code",
      "execution_count": 3,
      "metadata": {
        "colab": {
          "base_uri": "https://localhost:8080/"
        },
        "id": "hH4XK2kxB6Xi",
        "outputId": "caaf5c84-5d05-4e68-ab11-8af578867d9f"
      },
      "outputs": [
        {
          "output_type": "stream",
          "name": "stdout",
          "text": [
            "a is less than b\n"
          ]
        }
      ],
      "source": [
        "a = 12\n",
        "b = 100\n",
        "\n",
        "if a<b:\n",
        "  print('a is less than b')"
      ]
    },
    {
      "cell_type": "markdown",
      "source": [
        "Elif Statement"
      ],
      "metadata": {
        "id": "r0Ri-oKIC2C6"
      }
    },
    {
      "cell_type": "code",
      "source": [
        "print(\"Enter your age\")\n",
        "age = int(input())\n",
        "if age>=18:\n",
        "  print(\"You are qualified to get a license\")\n",
        "elif age<18:\n",
        "  print(\"You ae not qualified to get a license\")"
      ],
      "metadata": {
        "colab": {
          "base_uri": "https://localhost:8080/"
        },
        "id": "ENaJCr4aC3sc",
        "outputId": "1cb436b5-d8fd-4933-8979-2392b1690d8f"
      },
      "execution_count": 15,
      "outputs": [
        {
          "output_type": "stream",
          "name": "stdout",
          "text": [
            "Enter your age\n",
            "18\n",
            "You are qualified to get a license\n"
          ]
        }
      ]
    },
    {
      "cell_type": "markdown",
      "source": [
        "Else Statement"
      ],
      "metadata": {
        "id": "V3D_6ocgEjWz"
      }
    },
    {
      "cell_type": "code",
      "source": [
        "print(\"Enter an integer:\")\n",
        "x = int(input())\n",
        "if x > 0:\n",
        "  print(\"Positive number\")\n",
        "elif x<0:\n",
        "  print(\"Negative number\")\n",
        "else:\n",
        "  print(\"Zero\")\n"
      ],
      "metadata": {
        "colab": {
          "base_uri": "https://localhost:8080/"
        },
        "id": "iDaNcS_5El9T",
        "outputId": "e32a9467-47a1-4fc8-f5e0-59e98fdd35c7"
      },
      "execution_count": 18,
      "outputs": [
        {
          "output_type": "stream",
          "name": "stdout",
          "text": [
            "Enter an integer:\n",
            "0\n",
            "Zero\n"
          ]
        }
      ]
    },
    {
      "cell_type": "markdown",
      "source": [
        "Short Hand If Statement"
      ],
      "metadata": {
        "id": "Nh1M4nPCFZ5w"
      }
    },
    {
      "cell_type": "code",
      "source": [
        "if a<b: print(\"a is less than b\")"
      ],
      "metadata": {
        "colab": {
          "base_uri": "https://localhost:8080/"
        },
        "id": "OilDFY-jFatA",
        "outputId": "ba363be6-eaab-4bf8-e3cf-23f235fef7ea"
      },
      "execution_count": 27,
      "outputs": [
        {
          "output_type": "stream",
          "name": "stdout",
          "text": [
            "a is less than b\n"
          ]
        }
      ]
    },
    {
      "cell_type": "markdown",
      "source": [
        "Short Hand If..Else Statement​"
      ],
      "metadata": {
        "id": "UGTBBqOSGI3_"
      }
    },
    {
      "cell_type": "code",
      "source": [
        "print(\"a is greater than b\") if a>b  else print (\"b is greater than a\")"
      ],
      "metadata": {
        "colab": {
          "base_uri": "https://localhost:8080/"
        },
        "id": "jXiHq9aPGLjk",
        "outputId": "5fc64649-836a-4e73-9926-117ac2e98c59"
      },
      "execution_count": 25,
      "outputs": [
        {
          "output_type": "stream",
          "name": "stdout",
          "text": [
            "b is greater than a\n"
          ]
        }
      ]
    },
    {
      "cell_type": "markdown",
      "source": [
        "And Statement"
      ],
      "metadata": {
        "id": "QxpItBO1Gru0"
      }
    },
    {
      "cell_type": "code",
      "source": [
        "c = 500\n",
        "if a <b and c>a:\n",
        "  print(\"both statements are true\")"
      ],
      "metadata": {
        "colab": {
          "base_uri": "https://localhost:8080/"
        },
        "id": "eJUH5CoCGyFf",
        "outputId": "cf130375-e6ab-4f82-8045-9466d0bf07fc"
      },
      "execution_count": 35,
      "outputs": [
        {
          "output_type": "stream",
          "name": "stdout",
          "text": [
            "both statements are true\n"
          ]
        }
      ]
    },
    {
      "cell_type": "markdown",
      "source": [
        "Or Statement"
      ],
      "metadata": {
        "id": "kJWgHnfiHiUh"
      }
    },
    {
      "cell_type": "code",
      "source": [
        "c = 500\n",
        "if a <b or c>a:\n",
        "  print(\"both statements are true\")"
      ],
      "metadata": {
        "colab": {
          "base_uri": "https://localhost:8080/"
        },
        "id": "yY7adHo6Jg5g",
        "outputId": "37db6094-a4de-4434-a8d3-0d369d249943"
      },
      "execution_count": 84,
      "outputs": [
        {
          "output_type": "stream",
          "name": "stdout",
          "text": [
            "both statements are true\n"
          ]
        }
      ]
    },
    {
      "cell_type": "markdown",
      "source": [
        "Nested If Statement"
      ],
      "metadata": {
        "id": "iTs4nvxKHv19"
      }
    },
    {
      "cell_type": "code",
      "source": [
        "print (\"Enter an integer\")\n",
        "x = int(input())\n",
        "if x>10:\n",
        "  print(\"above 10\")\n",
        "  if x>20:\n",
        "    print('and also above 20')\n",
        "    if x >30:\n",
        "      print('and also above 30')\n",
        "      if x >40:\n",
        "        print('and also above 40')\n",
        "        if x>50:\n",
        "          print('and also above 50')\n",
        "        else:\n",
        "          print('not above 50')\n",
        "      else:\n",
        "        print('not above 40')\n",
        "    else:\n",
        "      print('not above 30')\n",
        "  else:\n",
        "    print('not above 20')\n",
        "else:\n",
        "  print('not above 10')\n"
      ],
      "metadata": {
        "colab": {
          "base_uri": "https://localhost:8080/"
        },
        "id": "aJ56y9RgH25W",
        "outputId": "b679066c-dab7-4cb0-addc-a55ec015d9cd"
      },
      "execution_count": 67,
      "outputs": [
        {
          "output_type": "stream",
          "name": "stdout",
          "text": [
            "Enter an integer\n",
            "28\n",
            "above 10\n",
            "and also above 20\n",
            "not above 30\n"
          ]
        }
      ]
    },
    {
      "cell_type": "markdown",
      "source": [
        "Application 2\n",
        "Write a program to determine if the grades are:​\n",
        "\n",
        "​\n",
        "\n",
        "\tIf:​\n",
        "\n",
        "\t\t grade > = 75 , “Passed”​\n",
        "\n",
        "\t\tgrade = 74, “Remedial”​\n",
        "\n",
        "\t\tgrade < 74, “Failed”​\n",
        "\n",
        "\t\tnote: if grade is a negative number, it will not accepted\n"
      ],
      "metadata": {
        "id": "wjekwzWiN-_L"
      }
    },
    {
      "cell_type": "code",
      "source": [
        "def determine_grade_status(grade):\n",
        "    if grade < 0:\n",
        "        return \"Invalid grade. Grades cannot be negative.\"\n",
        "\n",
        "    rounded_grade = round(grade)\n",
        "\n",
        "    if rounded_grade >= 75:\n",
        "        return \"Passed\"\n",
        "    elif rounded_grade == 74:\n",
        "        return \"Remedial\"\n",
        "    elif rounded_grade < 74:\n",
        "        return \"Failed\"\n",
        "    else:\n",
        "        return \"Invalid input.\"\n",
        "\n",
        "# Example usage:\n",
        "try:\n",
        "    grade = float(input(\"Enter the grade: \"))\n",
        "    status = determine_grade_status(grade)\n",
        "    print(f\"Grade: {grade}, Status: {status}\")\n",
        "except ValueError:\n",
        "    print(\"Invalid input. Please enter a valid number.\")\n",
        "\n",
        "# You can also test the function directly with some sample grades:\n",
        "sample_grades = [100, 74, 60, -50]\n",
        "for grade in sample_grades:\n",
        "    print(f\"Grade: {grade}, Status: {determine_grade_status(grade)}\")"
      ],
      "metadata": {
        "colab": {
          "base_uri": "https://localhost:8080/"
        },
        "id": "wwI_tWBWOIuj",
        "outputId": "0c5342c1-0a51-43da-becb-4b2558bb7823"
      },
      "execution_count": 83,
      "outputs": [
        {
          "output_type": "stream",
          "name": "stdout",
          "text": [
            "Enter the grade: 74.99999\n",
            "Grade: 74.99999, Status: Passed\n",
            "Grade: 100, Status: Passed\n",
            "Grade: 74, Status: Remedial\n",
            "Grade: 60, Status: Failed\n",
            "Grade: -50, Status: Invalid grade. Grades cannot be negative.\n"
          ]
        }
      ]
    }
  ]
}